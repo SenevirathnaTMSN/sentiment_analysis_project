{
 "cells": [
  {
   "cell_type": "code",
   "execution_count": 3,
   "id": "534efa0f-878a-461c-8314-f7d12d682567",
   "metadata": {},
   "outputs": [],
   "source": [
    "import numpy as np\n",
    "import pandas as pd\n",
    "import matplotlib.pyplot as plt"
   ]
  },
  {
   "cell_type": "code",
   "execution_count": 4,
   "id": "9dd2d75c-05cd-40e3-94d5-145a97241d1e",
   "metadata": {},
   "outputs": [],
   "source": [
    "data = pd.read_csv('../Artifacts/sentiment_analysis.csv') "
   ]
  },
  {
   "cell_type": "code",
   "execution_count": 5,
   "id": "90d73a1f-cdc9-48d0-b3c0-1113bcfc508e",
   "metadata": {},
   "outputs": [
    {
     "data": {
      "text/html": [
       "<div>\n",
       "<style scoped>\n",
       "    .dataframe tbody tr th:only-of-type {\n",
       "        vertical-align: middle;\n",
       "    }\n",
       "\n",
       "    .dataframe tbody tr th {\n",
       "        vertical-align: top;\n",
       "    }\n",
       "\n",
       "    .dataframe thead th {\n",
       "        text-align: right;\n",
       "    }\n",
       "</style>\n",
       "<table border=\"1\" class=\"dataframe\">\n",
       "  <thead>\n",
       "    <tr style=\"text-align: right;\">\n",
       "      <th></th>\n",
       "      <th>id</th>\n",
       "      <th>label</th>\n",
       "      <th>tweet</th>\n",
       "    </tr>\n",
       "  </thead>\n",
       "  <tbody>\n",
       "    <tr>\n",
       "      <th>0</th>\n",
       "      <td>1</td>\n",
       "      <td>0</td>\n",
       "      <td>#fingerprint #Pregnancy Test https://goo.gl/h1...</td>\n",
       "    </tr>\n",
       "    <tr>\n",
       "      <th>1</th>\n",
       "      <td>2</td>\n",
       "      <td>0</td>\n",
       "      <td>Finally a transparant silicon case ^^ Thanks t...</td>\n",
       "    </tr>\n",
       "    <tr>\n",
       "      <th>2</th>\n",
       "      <td>3</td>\n",
       "      <td>0</td>\n",
       "      <td>We love this! Would you go? #talk #makememorie...</td>\n",
       "    </tr>\n",
       "    <tr>\n",
       "      <th>3</th>\n",
       "      <td>4</td>\n",
       "      <td>0</td>\n",
       "      <td>I'm wired I know I'm George I was made that wa...</td>\n",
       "    </tr>\n",
       "    <tr>\n",
       "      <th>4</th>\n",
       "      <td>5</td>\n",
       "      <td>1</td>\n",
       "      <td>What amazing service! Apple won't even talk to...</td>\n",
       "    </tr>\n",
       "  </tbody>\n",
       "</table>\n",
       "</div>"
      ],
      "text/plain": [
       "   id  label                                              tweet\n",
       "0   1      0  #fingerprint #Pregnancy Test https://goo.gl/h1...\n",
       "1   2      0  Finally a transparant silicon case ^^ Thanks t...\n",
       "2   3      0  We love this! Would you go? #talk #makememorie...\n",
       "3   4      0  I'm wired I know I'm George I was made that wa...\n",
       "4   5      1  What amazing service! Apple won't even talk to..."
      ]
     },
     "execution_count": 5,
     "metadata": {},
     "output_type": "execute_result"
    }
   ],
   "source": [
    "data.head()"
   ]
  },
  {
   "cell_type": "markdown",
   "id": "db28cb0c-db07-4ccb-9919-52b9a01aeb29",
   "metadata": {},
   "source": [
    "## Data Preprocessing"
   ]
  },
  {
   "cell_type": "code",
   "execution_count": 7,
   "id": "9f535d80-902a-410c-9c07-9995f65acd08",
   "metadata": {},
   "outputs": [
    {
     "data": {
      "text/plain": [
       "(7920, 3)"
      ]
     },
     "execution_count": 7,
     "metadata": {},
     "output_type": "execute_result"
    }
   ],
   "source": [
    "data.shape"
   ]
  },
  {
   "cell_type": "code",
   "execution_count": 10,
   "id": "a273dd87-856f-44d0-ad6f-7c4b769582ae",
   "metadata": {},
   "outputs": [
    {
     "data": {
      "text/plain": [
       "0"
      ]
     },
     "execution_count": 10,
     "metadata": {},
     "output_type": "execute_result"
    }
   ],
   "source": [
    "data.duplicated().sum()"
   ]
  },
  {
   "cell_type": "code",
   "execution_count": 11,
   "id": "de41e834-e4f6-434c-8105-50e73af43646",
   "metadata": {},
   "outputs": [
    {
     "data": {
      "text/plain": [
       "id       0\n",
       "label    0\n",
       "tweet    0\n",
       "dtype: int64"
      ]
     },
     "execution_count": 11,
     "metadata": {},
     "output_type": "execute_result"
    }
   ],
   "source": [
    "data.isnull().sum()"
   ]
  },
  {
   "cell_type": "markdown",
   "id": "989e3757-e4e5-41d6-ab8a-94265f774862",
   "metadata": {},
   "source": [
    "### Text Preprocessing"
   ]
  },
  {
   "cell_type": "code",
   "execution_count": 12,
   "id": "0e45dcbc-c78a-438b-b4a0-c955a9bf0b6c",
   "metadata": {},
   "outputs": [],
   "source": [
    "import re\n",
    "import string"
   ]
  },
  {
   "cell_type": "markdown",
   "id": "a2e04dd3-f9ad-4a44-b5f1-a99802fee02b",
   "metadata": {},
   "source": [
    "#### Convert upper case to lower case"
   ]
  },
  {
   "cell_type": "code",
   "execution_count": 14,
   "id": "5dceab83-eab6-480a-8c6b-dd82cab0c79e",
   "metadata": {},
   "outputs": [],
   "source": [
    "data[\"tweet\"] = data[\"tweet\"].apply(lambda x: \" \".join(x.lower() for x in x.split()))"
   ]
  },
  {
   "cell_type": "code",
   "execution_count": 15,
   "id": "ab6a8bcd-5b8e-41ff-918b-64160e3defc6",
   "metadata": {},
   "outputs": [
    {
     "data": {
      "text/plain": [
       "0    #fingerprint #pregnancy test https://goo.gl/h1...\n",
       "1    finally a transparant silicon case ^^ thanks t...\n",
       "2    we love this! would you go? #talk #makememorie...\n",
       "3    i'm wired i know i'm george i was made that wa...\n",
       "4    what amazing service! apple won't even talk to...\n",
       "Name: tweet, dtype: object"
      ]
     },
     "execution_count": 15,
     "metadata": {},
     "output_type": "execute_result"
    }
   ],
   "source": [
    "data[\"tweet\"].head (5)"
   ]
  },
  {
   "cell_type": "markdown",
   "id": "b784f804-fb77-48da-ac0d-2d542fd753bc",
   "metadata": {},
   "source": [
    "#### Links"
   ]
  },
  {
   "cell_type": "code",
   "execution_count": 20,
   "id": "551b9660-4f7d-4a3a-8242-1bfcde1c2569",
   "metadata": {},
   "outputs": [],
   "source": [
    "data[\"tweet\"] = data['tweet'].apply(lambda x: \" \".join(re.sub(r'^https?:\\/\\/.*[\\r\\n]*', '', x, flags=re.MULTILINE) for x in x.split()))"
   ]
  },
  {
   "cell_type": "code",
   "execution_count": 24,
   "id": "415fe507-4699-4764-b043-2c83a6dea666",
   "metadata": {},
   "outputs": [
    {
     "data": {
      "text/plain": [
       "0    #fingerprint #pregnancy test #android #apps #b...\n",
       "1    finally a transparant silicon case ^^ thanks t...\n",
       "2    we love this! would you go? #talk #makememorie...\n",
       "3    i'm wired i know i'm george i was made that wa...\n",
       "4    what amazing service! apple won't even talk to...\n",
       "Name: tweet, dtype: object"
      ]
     },
     "execution_count": 24,
     "metadata": {},
     "output_type": "execute_result"
    }
   ],
   "source": [
    "data[\"tweet\"].head(5)"
   ]
  },
  {
   "cell_type": "markdown",
   "id": "9707b772-3eec-4acf-9393-4d9e3e89c08f",
   "metadata": {},
   "source": [
    "#### Remove Punctuation"
   ]
  },
  {
   "cell_type": "code",
   "execution_count": 26,
   "id": "ff1f6b69-048f-4d3c-8bdd-8f717fcf7755",
   "metadata": {},
   "outputs": [
    {
     "data": {
      "text/plain": [
       "'!\"#$%&\\'()*+,-./:;<=>?@[\\\\]^_`{|}~'"
      ]
     },
     "execution_count": 26,
     "metadata": {},
     "output_type": "execute_result"
    }
   ],
   "source": [
    "string.punctuation"
   ]
  },
  {
   "cell_type": "code",
   "execution_count": null,
   "id": "d23dd756-c02b-4b12-a58a-6101d84562dc",
   "metadata": {},
   "outputs": [],
   "source": [
    "def remove_punctuations(text):\n",
    "    for punctuation in string.punctuation:\n",
    "        text = text.replace(punctuation, '')\n",
    "    return text\n",
    "\n",
    "data[\"tweet\"] = data[\"tweet\"].apply(remove_punctuations)"
   ]
  },
  {
   "cell_type": "code",
   "execution_count": 28,
   "id": "e6fb2050-ecb4-4e3a-a880-8b87fa1eda06",
   "metadata": {},
   "outputs": [],
   "source": [
    "import string\n",
    "\n",
    "data[\"tweet\"] = data['tweet'].apply(lambda x: ''.join(char for char in x if char not in string.punctuation))"
   ]
  },
  {
   "cell_type": "code",
   "execution_count": 29,
   "id": "63f135d5-cffb-4a27-a5e2-c2f657566b85",
   "metadata": {},
   "outputs": [
    {
     "data": {
      "text/plain": [
       "0       fingerprint pregnancy test android apps beauti...\n",
       "1       finally a transparant silicon case  thanks to ...\n",
       "2       we love this would you go talk makememories un...\n",
       "3       im wired i know im george i was made that way ...\n",
       "4       what amazing service apple wont even talk to m...\n",
       "                              ...                        \n",
       "7915    live out loud lol liveoutloud selfie smile son...\n",
       "7916    we would like to wish you an amazing day make ...\n",
       "7917    helping my lovely 90 year old neighbor with he...\n",
       "7918    finally got my smart pocket wifi stay connecte...\n",
       "7919    apple barcelona apple store bcn barcelona trav...\n",
       "Name: tweet, Length: 7920, dtype: object"
      ]
     },
     "execution_count": 29,
     "metadata": {},
     "output_type": "execute_result"
    }
   ],
   "source": [
    "data[\"tweet\"]"
   ]
  },
  {
   "cell_type": "markdown",
   "id": "6065bbdc-a9cf-4a8c-bdde-0b09ac48bc94",
   "metadata": {},
   "source": [
    "#### Remove numbers"
   ]
  },
  {
   "cell_type": "code",
   "execution_count": 31,
   "id": "0c55819f-b5db-4df9-9a06-8589db573132",
   "metadata": {},
   "outputs": [],
   "source": [
    "data[\"tweet\"] = data['tweet'].str.replace(r'\\d+', '', regex=True)"
   ]
  },
  {
   "cell_type": "code",
   "execution_count": 32,
   "id": "9d232c84-c6e2-4ddf-9e2b-c1d24a9a988d",
   "metadata": {},
   "outputs": [
    {
     "data": {
      "text/plain": [
       "7910    perfect match instagood applewatch red instagr...\n",
       "7911    i am completely in love with the new iphone em...\n",
       "7912    tune in turn on drop out  gtd in one app mobil...\n",
       "7913    ok so my galaxy crashed after one day now i ha...\n",
       "7914    gain followers rt this must follow me i follow...\n",
       "7915    live out loud lol liveoutloud selfie smile son...\n",
       "7916    we would like to wish you an amazing day make ...\n",
       "7917    helping my lovely  year old neighbor with her ...\n",
       "7918    finally got my smart pocket wifi stay connecte...\n",
       "7919    apple barcelona apple store bcn barcelona trav...\n",
       "Name: tweet, dtype: object"
      ]
     },
     "execution_count": 32,
     "metadata": {},
     "output_type": "execute_result"
    }
   ],
   "source": [
    "data[\"tweet\"].tail(10)"
   ]
  },
  {
   "cell_type": "markdown",
   "id": "6b162ff8-33a2-4472-aede-551ad20546fd",
   "metadata": {},
   "source": [
    "#### Remove stopwords"
   ]
  },
  {
   "cell_type": "code",
   "execution_count": 34,
   "id": "5b039737-009d-4c3f-ba65-550419f79f6b",
   "metadata": {},
   "outputs": [
    {
     "name": "stdout",
     "output_type": "stream",
     "text": [
      "Collecting nltk\n",
      "  Downloading nltk-3.8.1-py3-none-any.whl (1.5 MB)\n",
      "     ---------------------------------------- 0.0/1.5 MB ? eta -:--:--\n",
      "     ---------------------------------------- 0.0/1.5 MB ? eta -:--:--\n",
      "     ---------------------------------------- 0.0/1.5 MB ? eta -:--:--\n",
      "      --------------------------------------- 0.0/1.5 MB 217.9 kB/s eta 0:00:07\n",
      "     - -------------------------------------- 0.0/1.5 MB 195.7 kB/s eta 0:00:08\n",
      "     - -------------------------------------- 0.0/1.5 MB 195.7 kB/s eta 0:00:08\n",
      "     - -------------------------------------- 0.0/1.5 MB 195.7 kB/s eta 0:00:08\n",
      "     - -------------------------------------- 0.0/1.5 MB 195.7 kB/s eta 0:00:08\n",
      "     -- ------------------------------------- 0.1/1.5 MB 297.7 kB/s eta 0:00:05\n",
      "     --- ------------------------------------ 0.1/1.5 MB 340.5 kB/s eta 0:00:05\n",
      "     ----- ---------------------------------- 0.2/1.5 MB 414.8 kB/s eta 0:00:04\n",
      "     -------- ------------------------------- 0.3/1.5 MB 595.3 kB/s eta 0:00:03\n",
      "     --------- ------------------------------ 0.4/1.5 MB 636.6 kB/s eta 0:00:02\n",
      "     ----------- ---------------------------- 0.4/1.5 MB 671.7 kB/s eta 0:00:02\n",
      "     ------------- -------------------------- 0.5/1.5 MB 716.2 kB/s eta 0:00:02\n",
      "     ------------- -------------------------- 0.5/1.5 MB 729.3 kB/s eta 0:00:02\n",
      "     -------------- ------------------------- 0.5/1.5 MB 710.0 kB/s eta 0:00:02\n",
      "     -------------- ------------------------- 0.5/1.5 MB 710.0 kB/s eta 0:00:02\n",
      "     -------------- ------------------------- 0.6/1.5 MB 655.2 kB/s eta 0:00:02\n",
      "     --------------- ------------------------ 0.6/1.5 MB 633.1 kB/s eta 0:00:02\n",
      "     ---------------- ----------------------- 0.6/1.5 MB 623.5 kB/s eta 0:00:02\n",
      "     ----------------- ---------------------- 0.6/1.5 MB 624.9 kB/s eta 0:00:02\n",
      "     ----------------- ---------------------- 0.7/1.5 MB 616.2 kB/s eta 0:00:02\n",
      "     ----------------- ---------------------- 0.7/1.5 MB 617.4 kB/s eta 0:00:02\n",
      "     ----------------- ---------------------- 0.7/1.5 MB 617.4 kB/s eta 0:00:02\n",
      "     ----------------- ---------------------- 0.7/1.5 MB 617.4 kB/s eta 0:00:02\n",
      "     ----------------- ---------------------- 0.7/1.5 MB 617.4 kB/s eta 0:00:02\n",
      "     ----------------- ---------------------- 0.7/1.5 MB 617.4 kB/s eta 0:00:02\n",
      "     -------------------- ------------------- 0.8/1.5 MB 586.0 kB/s eta 0:00:02\n",
      "     --------------------- ------------------ 0.8/1.5 MB 574.2 kB/s eta 0:00:02\n",
      "     --------------------- ------------------ 0.8/1.5 MB 562.6 kB/s eta 0:00:02\n",
      "     ---------------------- ----------------- 0.8/1.5 MB 553.0 kB/s eta 0:00:02\n",
      "     ---------------------- ----------------- 0.9/1.5 MB 554.8 kB/s eta 0:00:02\n",
      "     ---------------------- ----------------- 0.9/1.5 MB 554.8 kB/s eta 0:00:02\n",
      "     ----------------------- ---------------- 0.9/1.5 MB 536.6 kB/s eta 0:00:02\n",
      "     ----------------------- ---------------- 0.9/1.5 MB 536.6 kB/s eta 0:00:02\n",
      "     ----------------------- ---------------- 0.9/1.5 MB 536.6 kB/s eta 0:00:02\n",
      "     ----------------------- ---------------- 0.9/1.5 MB 536.6 kB/s eta 0:00:02\n",
      "     ----------------------- ---------------- 0.9/1.5 MB 536.6 kB/s eta 0:00:02\n",
      "     ----------------------- ---------------- 0.9/1.5 MB 536.6 kB/s eta 0:00:02\n",
      "     ----------------------- ---------------- 0.9/1.5 MB 536.6 kB/s eta 0:00:02\n",
      "     ----------------------- ---------------- 0.9/1.5 MB 536.6 kB/s eta 0:00:02\n",
      "     ----------------------- ---------------- 0.9/1.5 MB 536.6 kB/s eta 0:00:02\n",
      "     ----------------------- ---------------- 0.9/1.5 MB 536.6 kB/s eta 0:00:02\n",
      "     ----------------------- ---------------- 0.9/1.5 MB 536.6 kB/s eta 0:00:02\n",
      "     ----------------------- ---------------- 0.9/1.5 MB 536.6 kB/s eta 0:00:02\n",
      "     ----------------------- ---------------- 0.9/1.5 MB 536.6 kB/s eta 0:00:02\n",
      "     ----------------------- ---------------- 0.9/1.5 MB 536.6 kB/s eta 0:00:02\n",
      "     ----------------------- ---------------- 0.9/1.5 MB 536.6 kB/s eta 0:00:02\n",
      "     ----------------------- ---------------- 0.9/1.5 MB 536.6 kB/s eta 0:00:02\n",
      "     ----------------------- ---------------- 0.9/1.5 MB 536.6 kB/s eta 0:00:02\n",
      "     ----------------------- ---------------- 0.9/1.5 MB 536.6 kB/s eta 0:00:02\n",
      "     ----------------------- ---------------- 0.9/1.5 MB 536.6 kB/s eta 0:00:02\n",
      "     ----------------------- ---------------- 0.9/1.5 MB 536.6 kB/s eta 0:00:02\n",
      "     ----------------------- ---------------- 0.9/1.5 MB 536.6 kB/s eta 0:00:02\n",
      "     ----------------------- ---------------- 0.9/1.5 MB 536.6 kB/s eta 0:00:02\n",
      "     ----------------------- ---------------- 0.9/1.5 MB 536.6 kB/s eta 0:00:02\n",
      "     ----------------------- ---------------- 0.9/1.5 MB 536.6 kB/s eta 0:00:02\n",
      "     ---------------------------- ----------- 1.1/1.5 MB 373.0 kB/s eta 0:00:02\n",
      "     ---------------------------- ----------- 1.1/1.5 MB 373.0 kB/s eta 0:00:02\n",
      "     ---------------------------- ----------- 1.1/1.5 MB 373.0 kB/s eta 0:00:02\n",
      "     ---------------------------- ----------- 1.1/1.5 MB 373.0 kB/s eta 0:00:02\n",
      "     ---------------------------- ----------- 1.1/1.5 MB 373.0 kB/s eta 0:00:02\n",
      "     ---------------------------- ----------- 1.1/1.5 MB 373.0 kB/s eta 0:00:02\n",
      "     ---------------------------- ----------- 1.1/1.5 MB 373.0 kB/s eta 0:00:02\n",
      "     ---------------------------- ----------- 1.1/1.5 MB 373.0 kB/s eta 0:00:02\n",
      "     ---------------------------- ----------- 1.1/1.5 MB 373.0 kB/s eta 0:00:02\n",
      "     -------------------------------- ------- 1.2/1.5 MB 378.1 kB/s eta 0:00:01\n",
      "     -------------------------------- ------- 1.2/1.5 MB 378.1 kB/s eta 0:00:01\n",
      "     -------------------------------- ------- 1.2/1.5 MB 378.1 kB/s eta 0:00:01\n",
      "     ---------------------------------------  1.5/1.5 MB 425.9 kB/s eta 0:00:01\n",
      "     ---------------------------------------  1.5/1.5 MB 431.0 kB/s eta 0:00:01\n",
      "     ---------------------------------------- 1.5/1.5 MB 428.7 kB/s eta 0:00:00\n",
      "Collecting click (from nltk)\n",
      "  Downloading click-8.1.7-py3-none-any.whl.metadata (3.0 kB)\n",
      "Collecting joblib (from nltk)\n",
      "  Downloading joblib-1.3.2-py3-none-any.whl.metadata (5.4 kB)\n",
      "Collecting regex>=2021.8.3 (from nltk)\n",
      "  Downloading regex-2023.12.25-cp312-cp312-win_amd64.whl.metadata (41 kB)\n",
      "     ---------------------------------------- 0.0/42.0 kB ? eta -:--:--\n",
      "     ---------------------------------------- 0.0/42.0 kB ? eta -:--:--\n",
      "     ---------------------------------------- 42.0/42.0 kB 1.0 MB/s eta 0:00:00\n",
      "Requirement already satisfied: tqdm in c:\\users\\hp\\desktop\\sentiment_analysis_project\\env\\lib\\site-packages (from nltk) (4.66.1)\n",
      "Requirement already satisfied: colorama in c:\\users\\hp\\desktop\\sentiment_analysis_project\\env\\lib\\site-packages (from click->nltk) (0.4.6)\n",
      "Downloading regex-2023.12.25-cp312-cp312-win_amd64.whl (268 kB)\n",
      "   ---------------------------------------- 0.0/268.9 kB ? eta -:--:--\n",
      "   --------------------- ------------------ 143.4/268.9 kB ? eta -:--:--\n",
      "   --------------------- ------------------ 143.4/268.9 kB ? eta -:--:--\n",
      "   ------------------------- -------------- 174.1/268.9 kB 1.5 MB/s eta 0:00:01\n",
      "   ------------------------------ --------- 204.8/268.9 kB 1.2 MB/s eta 0:00:01\n",
      "   -------------------------------------- - 256.0/268.9 kB 1.2 MB/s eta 0:00:01\n",
      "   -------------------------------------- 268.9/268.9 kB 920.6 kB/s eta 0:00:00\n",
      "Downloading click-8.1.7-py3-none-any.whl (97 kB)\n",
      "   ---------------------------------------- 0.0/97.9 kB ? eta -:--:--\n",
      "   ---------------- ----------------------- 41.0/97.9 kB 991.0 kB/s eta 0:00:01\n",
      "   ----------------------------- ---------- 71.7/97.9 kB 787.7 kB/s eta 0:00:01\n",
      "   ---------------------------------------- 97.9/97.9 kB 701.6 kB/s eta 0:00:00\n",
      "Downloading joblib-1.3.2-py3-none-any.whl (302 kB)\n",
      "   ---------------------------------------- 0.0/302.2 kB ? eta -:--:--\n",
      "   ---------------------------------------- 0.0/302.2 kB ? eta -:--:--\n",
      "   ---- ----------------------------------- 30.7/302.2 kB 1.3 MB/s eta 0:00:01\n",
      "   -------- ------------------------------- 61.4/302.2 kB 1.6 MB/s eta 0:00:01\n",
      "   -------- ------------------------------- 61.4/302.2 kB 1.6 MB/s eta 0:00:01\n",
      "   -------- ------------------------------- 61.4/302.2 kB 1.6 MB/s eta 0:00:01\n",
      "   -------- ------------------------------- 61.4/302.2 kB 1.6 MB/s eta 0:00:01\n",
      "   --------------- ---------------------- 122.9/302.2 kB 450.6 kB/s eta 0:00:01\n",
      "   ------------------ ------------------- 143.4/302.2 kB 425.3 kB/s eta 0:00:01\n",
      "   ------------------- ------------------ 153.6/302.2 kB 435.7 kB/s eta 0:00:01\n",
      "   ------------------------ ------------- 194.6/302.2 kB 452.9 kB/s eta 0:00:01\n",
      "   --------------------------- ---------- 215.0/302.2 kB 451.1 kB/s eta 0:00:01\n",
      "   ----------------------------- -------- 235.5/302.2 kB 464.5 kB/s eta 0:00:01\n",
      "   --------------------------------- ---- 266.2/302.2 kB 468.0 kB/s eta 0:00:01\n",
      "   ---------------------------------- --- 276.5/302.2 kB 459.8 kB/s eta 0:00:01\n",
      "   -------------------------------------- 302.2/302.2 kB 434.5 kB/s eta 0:00:00\n",
      "Installing collected packages: regex, joblib, click, nltk\n",
      "Successfully installed click-8.1.7 joblib-1.3.2 nltk-3.8.1 regex-2023.12.25\n"
     ]
    }
   ],
   "source": [
    "!pip install nltk"
   ]
  },
  {
   "cell_type": "code",
   "execution_count": 39,
   "id": "c9592a5d-72d8-4ce7-8873-b8d7b7da3ebe",
   "metadata": {},
   "outputs": [
    {
     "ename": "ModuleNotFoundError",
     "evalue": "No module named 'nltk'",
     "output_type": "error",
     "traceback": [
      "\u001b[1;31m---------------------------------------------------------------------------\u001b[0m",
      "\u001b[1;31mModuleNotFoundError\u001b[0m                       Traceback (most recent call last)",
      "Cell \u001b[1;32mIn[39], line 1\u001b[0m\n\u001b[1;32m----> 1\u001b[0m \u001b[38;5;28;01mimport\u001b[39;00m \u001b[38;5;21;01mnltk\u001b[39;00m\n\u001b[0;32m      2\u001b[0m \u001b[38;5;28mprint\u001b[39m(nltk\u001b[38;5;241m.\u001b[39m__version__)\n",
      "\u001b[1;31mModuleNotFoundError\u001b[0m: No module named 'nltk'"
     ]
    }
   ],
   "source": [
    "import nltk\n",
    "print(nltk.__version__)"
   ]
  },
  {
   "cell_type": "code",
   "execution_count": 37,
   "id": "d2f5ed76-5e75-425d-93bb-7b2b41cac8eb",
   "metadata": {},
   "outputs": [
    {
     "ename": "ModuleNotFoundError",
     "evalue": "No module named 'nltk'",
     "output_type": "error",
     "traceback": [
      "\u001b[1;31m---------------------------------------------------------------------------\u001b[0m",
      "\u001b[1;31mModuleNotFoundError\u001b[0m                       Traceback (most recent call last)",
      "Cell \u001b[1;32mIn[37], line 1\u001b[0m\n\u001b[1;32m----> 1\u001b[0m \u001b[38;5;28;01mimport\u001b[39;00m \u001b[38;5;21;01mnltk\u001b[39;00m\n",
      "\u001b[1;31mModuleNotFoundError\u001b[0m: No module named 'nltk'"
     ]
    }
   ],
   "source": [
    "import nltk"
   ]
  },
  {
   "cell_type": "code",
   "execution_count": 36,
   "id": "4925b92c-f593-40b5-91ca-56dbda654a03",
   "metadata": {},
   "outputs": [
    {
     "ename": "ModuleNotFoundError",
     "evalue": "No module named 'nltk'",
     "output_type": "error",
     "traceback": [
      "\u001b[1;31m---------------------------------------------------------------------------\u001b[0m",
      "\u001b[1;31mModuleNotFoundError\u001b[0m                       Traceback (most recent call last)",
      "Cell \u001b[1;32mIn[36], line 1\u001b[0m\n\u001b[1;32m----> 1\u001b[0m \u001b[38;5;28;01mimport\u001b[39;00m \u001b[38;5;21;01mnltk\u001b[39;00m\n",
      "\u001b[1;31mModuleNotFoundError\u001b[0m: No module named 'nltk'"
     ]
    }
   ],
   "source": [
    "import nltk"
   ]
  },
  {
   "cell_type": "code",
   "execution_count": null,
   "id": "9f1f2b1e-3bd2-45e6-82f3-f706f2b89540",
   "metadata": {},
   "outputs": [],
   "source": []
  }
 ],
 "metadata": {
  "kernelspec": {
   "display_name": "Python 3 (ipykernel)",
   "language": "python",
   "name": "python3"
  },
  "language_info": {
   "codemirror_mode": {
    "name": "ipython",
    "version": 3
   },
   "file_extension": ".py",
   "mimetype": "text/x-python",
   "name": "python",
   "nbconvert_exporter": "python",
   "pygments_lexer": "ipython3",
   "version": "3.12.1"
  }
 },
 "nbformat": 4,
 "nbformat_minor": 5
}
